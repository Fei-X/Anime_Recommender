{
 "cells": [
  {
   "cell_type": "code",
   "execution_count": 1,
   "metadata": {},
   "outputs": [
    {
     "name": "stdout",
     "output_type": "stream",
     "text": [
      "Tue Jul 20 12:28:50 2021       \n",
      "+-----------------------------------------------------------------------------+\n",
      "| NVIDIA-SMI 440.33.01    Driver Version: 440.33.01    CUDA Version: 10.2     |\n",
      "|-------------------------------+----------------------+----------------------+\n",
      "| GPU  Name        Persistence-M| Bus-Id        Disp.A | Volatile Uncorr. ECC |\n",
      "| Fan  Temp  Perf  Pwr:Usage/Cap|         Memory-Usage | GPU-Util  Compute M. |\n",
      "|===============================+======================+======================|\n",
      "|   0  GeForce GTX 108...  On   | 00000000:03:00.0 Off |                  N/A |\n",
      "| 23%   26C    P8     8W / 250W |      1MiB / 11178MiB |      0%      Default |\n",
      "+-------------------------------+----------------------+----------------------+\n",
      "|   1  GeForce GTX 108...  On   | 00000000:04:00.0 Off |                  N/A |\n",
      "| 23%   26C    P8     8W / 250W |      1MiB / 11178MiB |      0%      Default |\n",
      "+-------------------------------+----------------------+----------------------+\n",
      "|   2  GeForce GTX 108...  On   | 00000000:07:00.0 Off |                  N/A |\n",
      "| 23%   30C    P0    57W / 250W |      1MiB / 11178MiB |      0%      Default |\n",
      "+-------------------------------+----------------------+----------------------+\n",
      "|   3  GeForce GTX 108...  On   | 00000000:08:00.0 Off |                  N/A |\n",
      "| 23%   25C    P8     8W / 250W |    197MiB / 11178MiB |      0%      Default |\n",
      "+-------------------------------+----------------------+----------------------+\n",
      "|   4  GeForce GTX 108...  On   | 00000000:83:00.0 Off |                  N/A |\n",
      "| 23%   23C    P8     8W / 250W |      1MiB / 11178MiB |      0%      Default |\n",
      "+-------------------------------+----------------------+----------------------+\n",
      "|   5  GeForce GTX 108...  On   | 00000000:84:00.0 Off |                  N/A |\n",
      "| 23%   22C    P8     8W / 250W |      1MiB / 11178MiB |      0%      Default |\n",
      "+-------------------------------+----------------------+----------------------+\n",
      "|   6  GeForce GTX 108...  On   | 00000000:87:00.0 Off |                  N/A |\n",
      "| 23%   24C    P8     8W / 250W |      1MiB / 11178MiB |      0%      Default |\n",
      "+-------------------------------+----------------------+----------------------+\n",
      "|   7  GeForce GTX 108...  On   | 00000000:88:00.0 Off |                  N/A |\n",
      "| 23%   23C    P8     9W / 250W |      1MiB / 11178MiB |      0%      Default |\n",
      "+-------------------------------+----------------------+----------------------+\n",
      "                                                                               \n",
      "+-----------------------------------------------------------------------------+\n",
      "| Processes:                                                       GPU Memory |\n",
      "|  GPU       PID   Type   Process name                             Usage      |\n",
      "|=============================================================================|\n",
      "+-----------------------------------------------------------------------------+\n"
     ]
    }
   ],
   "source": [
    "!nvidia-smi"
   ]
  },
  {
   "cell_type": "code",
   "execution_count": 2,
   "metadata": {},
   "outputs": [],
   "source": [
    "import os\n",
    "os.environ[\"CUDA_DEVICE_ORDER\"] = \"PCI_BUS_ID\"\n",
    "os.environ[\"CUDA_VISIBLE_DEVICES\"] = \"2\"\n",
    "\n",
    "import numpy as np\n",
    "import pandas as pd\n",
    "import seaborn as sns\n",
    "import matplotlib.pyplot as plt\n",
    "\n",
    "import cornac\n",
    "from cornac.eval_methods import RatioSplit\n",
    "from cornac.models import BPR, VBPR\n",
    "from cornac.data import ImageModality\n",
    "\n",
    "from collections import defaultdict\n",
    "\n",
    "pd.set_option('display.max_colwidth',100)\n",
    "%config Completer.use_jedi = False"
   ]
  },
  {
   "cell_type": "markdown",
   "metadata": {
    "id": "tVv7C4gMBMqT"
   },
   "source": [
    "## Image on VBPR"
   ]
  },
  {
   "cell_type": "code",
   "execution_count": 13,
   "metadata": {
    "colab": {
     "base_uri": "https://localhost:8080/"
    },
    "executionInfo": {
     "elapsed": 41973,
     "status": "ok",
     "timestamp": 1624179955421,
     "user": {
      "displayName": "XIE, FEI _",
      "photoUrl": "",
      "userId": "05889618592862881130"
     },
     "user_tz": -480
    },
    "id": "i-Htpy6tfoYG",
    "outputId": "876643e3-e897-4f2f-8924-1bfa8a4a9380"
   },
   "outputs": [
    {
     "name": "stdout",
     "output_type": "stream",
     "text": [
      "rating_threshold = 4.0\n",
      "exclude_unknowns = True\n",
      "---\n",
      "Training data:\n",
      "Number of users = 71569\n",
      "Number of items = 15915\n",
      "Number of ratings = 10799677\n",
      "Max rating = 10.0\n",
      "Min rating = 1.0\n",
      "Global mean = 7.4\n",
      "---\n",
      "Test data:\n",
      "Number of users = 67253\n",
      "Number of items = 14326\n",
      "Number of ratings = 1542627\n",
      "Number of unknown users = 0\n",
      "Number of unknown items = 0\n",
      "---\n",
      "Validation data:\n",
      "Number of users = 69097\n",
      "Number of items = 15330\n",
      "Number of ratings = 3085269\n",
      "---\n",
      "Total users = 71569\n",
      "Total items = 15915\n"
     ]
    }
   ],
   "source": [
    "data = pd.read_csv('rating_without_0.csv')\n",
    "ratings = list(data[['user_id', 'anime_id', 'rating']].drop_duplicates().itertuples(index=False))\n",
    "\n",
    "with open('anime_image_features.npy', 'rb') as f:\n",
    "    features = np.load(f)\n",
    "    \n",
    "with open('anime_image_ids.npy', 'rb') as f:\n",
    "    ids = np.load(f)\n",
    "    \n",
    "item_image_modality = ImageModality(features=features, ids=ids, normalized=True)\n",
    "\n",
    "ratio_split = RatioSplit(\n",
    "    data=ratings,\n",
    "     val_size=0.2,\n",
    "    test_size=0.1,\n",
    "    rating_threshold=4.0,\n",
    "    exclude_unknowns=True,\n",
    "    verbose=True,\n",
    "    item_image=item_image_modality\n",
    ")\n",
    "eval_metrics = [cornac.metrics.NCRR(k=[15]),\n",
    "                cornac.metrics.NDCG(k=[15]),\n",
    "                cornac.metrics.Recall(k=15)]"
   ]
  },
  {
   "cell_type": "code",
   "execution_count": 4,
   "metadata": {
    "colab": {
     "base_uri": "https://localhost:8080/",
     "height": 789,
     "referenced_widgets": [
      "5f8a947269c34289957cc69e4ae3d8db",
      "5ba9bfcd36624829bbe5472688c6e218",
      "d44ec54c3aa04c429d90a855ce05b195",
      "d113cb33dae846fca01d8831b26190fc",
      "cefe3e2362a34d57a1c0735be7a167bd",
      "65b7f6c3ef04404a8e6bc657a4be6546",
      "662e636dbfb842c9949fc44ee356a5aa",
      "7c7f7f42482546cda901a89b4717b947",
      "416220c1d5564b8ba798acd68acb9af7",
      "1085faab5bc346caa1af86c06418dbcb",
      "4b9a057c8ce1444eb7788a353fe5920b",
      "0f6a40333a244f658787c8c2cf9a4086",
      "d65c1af94a3e4fe2a44205d1a58d36bd",
      "8345e747d16b49d1ae309bae66f1f19d",
      "0418a06cec4241768cc590d70cb6d43f",
      "425d6c3e65cc485481ff1fe3fe5e0cd6",
      "76c52b57a58643ff98a068701d05ac84",
      "8a90e5700d8249c49e75c54a9d5b23c7",
      "dc46cfb8b2a749d7ad30ca0a0b6dbd58",
      "296086ae05a34d2c809075c959578e38",
      "fcc84b15cd1145ba9e8e75cb63b2f54c",
      "d0c70e33df954572a363652c62c04699",
      "b41ca63ad24b436bb96082f1700a46a2",
      "7f9135e8ace6424bac5c2b4493d66809",
      "9827a163c1dd48d28adf51589674e95f",
      "c0fe54c68d544c9c9509695b0e713db5",
      "1d6ef0bbf99f4e48af03fe1f453be40d",
      "b0a25a59fb51467ba2fa0e4432eb3a91",
      "b0994232e54545b2b4642f48221ec0d9",
      "a03cab48d5474cf0aace723c7a72fb05",
      "b1f06347776c491eba387c65027b0100",
      "246bd113ee61427eb995d5a4791a0c6b",
      "8dfd0a3d55db44a5a3a711fa76def8fb",
      "f097d925baf640f7ad7c88265a2062ac",
      "89a654dd2f1447c1b672863a5535a596",
      "a8c7e563518f4ceca9fec370dc0b103f",
      "568f5d8b88c2453cbbe4a12765c65103",
      "76df599469224ada95b838fe56b3f2a3",
      "bf826acc69ae46ca8c22b0c21502341f",
      "a5aa1c97bc1a45779937dc699382b459"
     ]
    },
    "executionInfo": {
     "elapsed": 2180823,
     "status": "ok",
     "timestamp": 1624182938013,
     "user": {
      "displayName": "XIE, FEI _",
      "photoUrl": "",
      "userId": "05889618592862881130"
     },
     "user_tz": -480
    },
    "id": "TSg1aLLXMAc4",
    "outputId": "8a891136-8509-4a1d-f522-30644f6ad227"
   },
   "outputs": [
    {
     "data": {
      "application/vnd.jupyter.widget-view+json": {
       "model_id": "4413b52c06c14b5a8b3995ea59c3651f",
       "version_major": 2,
       "version_minor": 0
      },
      "text/plain": [
       "Epoch 1/5:   0%|          | 0/10547 [00:00<?, ?it/s]"
      ]
     },
     "metadata": {},
     "output_type": "display_data"
    },
    {
     "data": {
      "application/vnd.jupyter.widget-view+json": {
       "model_id": "1e8a8ab0c5504c4cb1ac4879f34ca38b",
       "version_major": 2,
       "version_minor": 0
      },
      "text/plain": [
       "Epoch 2/5:   0%|          | 0/10547 [00:00<?, ?it/s]"
      ]
     },
     "metadata": {},
     "output_type": "display_data"
    },
    {
     "data": {
      "application/vnd.jupyter.widget-view+json": {
       "model_id": "bb742fe212dc404ea8e8cd9933a5506a",
       "version_major": 2,
       "version_minor": 0
      },
      "text/plain": [
       "Epoch 3/5:   0%|          | 0/10547 [00:00<?, ?it/s]"
      ]
     },
     "metadata": {},
     "output_type": "display_data"
    },
    {
     "data": {
      "application/vnd.jupyter.widget-view+json": {
       "model_id": "0f49a437f6a24b8793f91902eafe1666",
       "version_major": 2,
       "version_minor": 0
      },
      "text/plain": [
       "Epoch 4/5:   0%|          | 0/10547 [00:00<?, ?it/s]"
      ]
     },
     "metadata": {},
     "output_type": "display_data"
    },
    {
     "data": {
      "application/vnd.jupyter.widget-view+json": {
       "model_id": "94baaf64e6c94cae943a5b4bd35453ad",
       "version_major": 2,
       "version_minor": 0
      },
      "text/plain": [
       "Epoch 5/5:   0%|          | 0/10547 [00:00<?, ?it/s]"
      ]
     },
     "metadata": {},
     "output_type": "display_data"
    },
    {
     "name": "stdout",
     "output_type": "stream",
     "text": [
      "Optimization finished!\n"
     ]
    },
    {
     "data": {
      "application/vnd.jupyter.widget-view+json": {
       "model_id": "1ff329bae7114934824a16d954724a50",
       "version_major": 2,
       "version_minor": 0
      },
      "text/plain": [
       "  0%|          | 0/5 [00:00<?, ?it/s]"
      ]
     },
     "metadata": {},
     "output_type": "display_data"
    },
    {
     "name": "stdout",
     "output_type": "stream",
     "text": [
      "Optimization finished!\n",
      "\n",
      "VALIDATION:\n",
      "...\n",
      "     | NCRR@15 | NDCG@15 | Recall@15 | Time (s)\n",
      "---- + ------- + ------- + --------- + --------\n",
      "VBPR |  0.1344 |  0.1360 |    0.0785 | 262.9246\n",
      "BPR  |  0.1235 |  0.1213 |    0.0668 | 211.4490\n",
      "\n",
      "TEST:\n",
      "...\n",
      "     | NCRR@15 | NDCG@15 | Recall@15 | Train (s) | Test (s)\n",
      "---- + ------- + ------- + --------- + --------- + --------\n",
      "VBPR |  0.0739 |  0.0797 |    0.0751 | 1915.3894 | 235.5127\n",
      "BPR  |  0.0672 |  0.0706 |    0.0638 |    7.3039 | 209.0069\n",
      "\n"
     ]
    }
   ],
   "source": [
    "K = 70\n",
    "vbpr = VBPR(k=K, k2=K, n_epochs=5, batch_size=1024, learning_rate=0.001, lambda_w=0.1, lambda_b=0.1, lambda_e=0.1, use_gpu=True)\n",
    "bpr = BPR(k=(K * 2), max_iter=5, learning_rate=0.001, lambda_reg=0.1, verbose=True)\n",
    "\n",
    "cornac.Experiment(eval_method=ratio_split, models=[vbpr, bpr], metrics=eval_metrics).run()"
   ]
  },
  {
   "cell_type": "markdown",
   "metadata": {},
   "source": [
    "## Run on full dataset"
   ]
  },
  {
   "cell_type": "code",
   "execution_count": 3,
   "metadata": {},
   "outputs": [],
   "source": [
    "data = pd.read_csv('rating_without_0.csv')\n",
    "ratings = cornac.data.Dataset.from_uir(data[['user_id', 'anime_id', 'rating']].drop_duplicates().itertuples(index=False))\n",
    "\n",
    "with open('anime_image_features.npy', 'rb') as f:\n",
    "    features = np.load(f)\n",
    "    \n",
    "with open('anime_image_ids.npy', 'rb') as f:\n",
    "    ids = np.load(f)\n",
    "    \n",
    "item_image_modality = ImageModality(features=features, ids=ids, normalized=True)\n",
    "ratings.add_modalities(item_image=item_image_modality)"
   ]
  },
  {
   "cell_type": "code",
   "execution_count": 4,
   "metadata": {},
   "outputs": [
    {
     "data": {
      "application/vnd.jupyter.widget-view+json": {
       "model_id": "a92a90f847984b828ebf690d857e6df8",
       "version_major": 2,
       "version_minor": 0
      },
      "text/plain": [
       "Epoch 1/5:   0%|          | 0/15067 [00:00<?, ?it/s]"
      ]
     },
     "metadata": {},
     "output_type": "display_data"
    },
    {
     "data": {
      "application/vnd.jupyter.widget-view+json": {
       "model_id": "c2c15e58b75543828630b15fb8c53660",
       "version_major": 2,
       "version_minor": 0
      },
      "text/plain": [
       "Epoch 2/5:   0%|          | 0/15067 [00:00<?, ?it/s]"
      ]
     },
     "metadata": {},
     "output_type": "display_data"
    },
    {
     "data": {
      "application/vnd.jupyter.widget-view+json": {
       "model_id": "60d55bcbb7274a3d86f677676237c8b7",
       "version_major": 2,
       "version_minor": 0
      },
      "text/plain": [
       "Epoch 3/5:   0%|          | 0/15067 [00:00<?, ?it/s]"
      ]
     },
     "metadata": {},
     "output_type": "display_data"
    },
    {
     "data": {
      "application/vnd.jupyter.widget-view+json": {
       "model_id": "da1adba0fa374692850d015de4001020",
       "version_major": 2,
       "version_minor": 0
      },
      "text/plain": [
       "Epoch 4/5:   0%|          | 0/15067 [00:00<?, ?it/s]"
      ]
     },
     "metadata": {},
     "output_type": "display_data"
    },
    {
     "data": {
      "application/vnd.jupyter.widget-view+json": {
       "model_id": "c1bbce3275d4466488b1fc9ef64d62ae",
       "version_major": 2,
       "version_minor": 0
      },
      "text/plain": [
       "Epoch 5/5:   0%|          | 0/15067 [00:00<?, ?it/s]"
      ]
     },
     "metadata": {},
     "output_type": "display_data"
    },
    {
     "name": "stdout",
     "output_type": "stream",
     "text": [
      "Optimization finished!\n"
     ]
    },
    {
     "data": {
      "text/plain": [
       "<cornac.models.vbpr.recom_vbpr.VBPR at 0x7f72fc3399b0>"
      ]
     },
     "execution_count": 4,
     "metadata": {},
     "output_type": "execute_result"
    }
   ],
   "source": [
    "K = 70\n",
    "model = VBPR(k=K, k2=K, n_epochs=5, batch_size=1024, learning_rate=0.001, lambda_w=0.1, lambda_b=0.1, lambda_e=0.1, use_gpu=True)\n",
    "\n",
    "model.fit(ratings)"
   ]
  },
  {
   "cell_type": "code",
   "execution_count": 5,
   "metadata": {},
   "outputs": [
    {
     "data": {
      "text/html": [
       "<div>\n",
       "<style scoped>\n",
       "    .dataframe tbody tr th:only-of-type {\n",
       "        vertical-align: middle;\n",
       "    }\n",
       "\n",
       "    .dataframe tbody tr th {\n",
       "        vertical-align: top;\n",
       "    }\n",
       "\n",
       "    .dataframe thead th {\n",
       "        text-align: right;\n",
       "    }\n",
       "</style>\n",
       "<table border=\"1\" class=\"dataframe\">\n",
       "  <thead>\n",
       "    <tr style=\"text-align: right;\">\n",
       "      <th></th>\n",
       "      <th>MAL_ID</th>\n",
       "      <th>Name</th>\n",
       "      <th>Score</th>\n",
       "      <th>Genders</th>\n",
       "      <th>English name</th>\n",
       "      <th>Japanese name</th>\n",
       "      <th>Type</th>\n",
       "      <th>Episodes</th>\n",
       "      <th>Aired</th>\n",
       "      <th>Premiered</th>\n",
       "      <th>...</th>\n",
       "      <th>Score-7</th>\n",
       "      <th>Score-6</th>\n",
       "      <th>Score-5</th>\n",
       "      <th>Score-4</th>\n",
       "      <th>Score-3</th>\n",
       "      <th>Score-2</th>\n",
       "      <th>Score-1</th>\n",
       "      <th>sypnopsis</th>\n",
       "      <th>pic_url</th>\n",
       "      <th>anime_url</th>\n",
       "    </tr>\n",
       "  </thead>\n",
       "  <tbody>\n",
       "    <tr>\n",
       "      <th>0</th>\n",
       "      <td>1</td>\n",
       "      <td>Cowboy Bebop</td>\n",
       "      <td>8.78</td>\n",
       "      <td>Action, Adventure, Comedy, Drama, Sci-Fi, Space</td>\n",
       "      <td>Cowboy Bebop</td>\n",
       "      <td>カウボーイビバップ</td>\n",
       "      <td>TV</td>\n",
       "      <td>26</td>\n",
       "      <td>Apr 3, 1998 to Apr 24, 1999</td>\n",
       "      <td>Spring 1998</td>\n",
       "      <td>...</td>\n",
       "      <td>62330.0</td>\n",
       "      <td>20688.0</td>\n",
       "      <td>8904.0</td>\n",
       "      <td>3184.0</td>\n",
       "      <td>1357.0</td>\n",
       "      <td>741.0</td>\n",
       "      <td>1580.0</td>\n",
       "      <td>In the year 2071, humanity has colonized several of the planets and moons of the solar system le...</td>\n",
       "      <td>https://cdn.myanimelist.net/images/anime/4/19644.jpg</td>\n",
       "      <td>https://myanimelist.net/anime/1</td>\n",
       "    </tr>\n",
       "  </tbody>\n",
       "</table>\n",
       "<p>1 rows × 38 columns</p>\n",
       "</div>"
      ],
      "text/plain": [
       "   MAL_ID          Name Score  \\\n",
       "0       1  Cowboy Bebop  8.78   \n",
       "\n",
       "                                           Genders  English name  \\\n",
       "0  Action, Adventure, Comedy, Drama, Sci-Fi, Space  Cowboy Bebop   \n",
       "\n",
       "  Japanese name Type Episodes                        Aired    Premiered  ...  \\\n",
       "0     カウボーイビバップ   TV       26  Apr 3, 1998 to Apr 24, 1999  Spring 1998  ...   \n",
       "\n",
       "   Score-7  Score-6 Score-5 Score-4 Score-3 Score-2 Score-1  \\\n",
       "0  62330.0  20688.0  8904.0  3184.0  1357.0   741.0  1580.0   \n",
       "\n",
       "                                                                                             sypnopsis  \\\n",
       "0  In the year 2071, humanity has colonized several of the planets and moons of the solar system le...   \n",
       "\n",
       "                                                pic_url  \\\n",
       "0  https://cdn.myanimelist.net/images/anime/4/19644.jpg   \n",
       "\n",
       "                         anime_url  \n",
       "0  https://myanimelist.net/anime/1  \n",
       "\n",
       "[1 rows x 38 columns]"
      ]
     },
     "execution_count": 5,
     "metadata": {},
     "output_type": "execute_result"
    }
   ],
   "source": [
    "anime = pd.read_csv('anime_info.csv')\n",
    "anime['airtime'] = 2021 - anime.Aired.apply(lambda x:int(x.split(' to ')[0][-4:]) if x != 'Unknown' else 2021)"
   ]
  },
  {
   "cell_type": "code",
   "execution_count": 36,
   "metadata": {},
   "outputs": [
    {
     "name": "stdout",
     "output_type": "stream",
     "text": [
      "\n",
      "TOP 5 RECOMMENDATIONS:\n"
     ]
    },
    {
     "data": {
      "text/html": [
       "<div>\n",
       "<style scoped>\n",
       "    .dataframe tbody tr th:only-of-type {\n",
       "        vertical-align: middle;\n",
       "    }\n",
       "\n",
       "    .dataframe tbody tr th {\n",
       "        vertical-align: top;\n",
       "    }\n",
       "\n",
       "    .dataframe thead th {\n",
       "        text-align: right;\n",
       "    }\n",
       "</style>\n",
       "<table border=\"1\" class=\"dataframe\">\n",
       "  <thead>\n",
       "    <tr style=\"text-align: right;\">\n",
       "      <th></th>\n",
       "      <th>MAL_ID</th>\n",
       "      <th>Score</th>\n",
       "      <th>CF Contribution</th>\n",
       "      <th>Visual Contribution</th>\n",
       "      <th>anime_name</th>\n",
       "      <th>pic_url</th>\n",
       "    </tr>\n",
       "  </thead>\n",
       "  <tbody>\n",
       "    <tr>\n",
       "      <th>0</th>\n",
       "      <td>38000</td>\n",
       "      <td>0.893973</td>\n",
       "      <td>3.298187</td>\n",
       "      <td>-2.404215</td>\n",
       "      <td>Demon Slayer:Kimetsu no Yaiba</td>\n",
       "      <td>https://cdn.myanimelist.net/images/anime/1286/99889.jpg</td>\n",
       "    </tr>\n",
       "    <tr>\n",
       "      <th>1</th>\n",
       "      <td>38524</td>\n",
       "      <td>0.492789</td>\n",
       "      <td>2.684249</td>\n",
       "      <td>-2.191460</td>\n",
       "      <td>Attack on Titan Season 3 Part 2</td>\n",
       "      <td>https://cdn.myanimelist.net/images/anime/1517/100633.jpg</td>\n",
       "    </tr>\n",
       "    <tr>\n",
       "      <th>2</th>\n",
       "      <td>40748</td>\n",
       "      <td>-0.231155</td>\n",
       "      <td>2.141249</td>\n",
       "      <td>-2.372404</td>\n",
       "      <td>Unknown</td>\n",
       "      <td>https://cdn.myanimelist.net/images/anime/1171/109222.jpg</td>\n",
       "    </tr>\n",
       "    <tr>\n",
       "      <th>3</th>\n",
       "      <td>37520</td>\n",
       "      <td>-0.251377</td>\n",
       "      <td>1.295066</td>\n",
       "      <td>-1.546443</td>\n",
       "      <td>Dororo</td>\n",
       "      <td>https://cdn.myanimelist.net/images/anime/1879/100467.jpg</td>\n",
       "    </tr>\n",
       "    <tr>\n",
       "      <th>4</th>\n",
       "      <td>38691</td>\n",
       "      <td>-0.321643</td>\n",
       "      <td>2.265505</td>\n",
       "      <td>-2.587148</td>\n",
       "      <td>Dr. Stone</td>\n",
       "      <td>https://cdn.myanimelist.net/images/anime/1613/102576.jpg</td>\n",
       "    </tr>\n",
       "  </tbody>\n",
       "</table>\n",
       "</div>"
      ],
      "text/plain": [
       "   MAL_ID     Score  CF Contribution  Visual Contribution  \\\n",
       "0   38000  0.893973         3.298187            -2.404215   \n",
       "1   38524  0.492789         2.684249            -2.191460   \n",
       "2   40748 -0.231155         2.141249            -2.372404   \n",
       "3   37520 -0.251377         1.295066            -1.546443   \n",
       "4   38691 -0.321643         2.265505            -2.587148   \n",
       "\n",
       "                        anime_name  \\\n",
       "0    Demon Slayer:Kimetsu no Yaiba   \n",
       "1  Attack on Titan Season 3 Part 2   \n",
       "2                          Unknown   \n",
       "3                           Dororo   \n",
       "4                        Dr. Stone   \n",
       "\n",
       "                                                    pic_url  \n",
       "0   https://cdn.myanimelist.net/images/anime/1286/99889.jpg  \n",
       "1  https://cdn.myanimelist.net/images/anime/1517/100633.jpg  \n",
       "2  https://cdn.myanimelist.net/images/anime/1171/109222.jpg  \n",
       "3  https://cdn.myanimelist.net/images/anime/1879/100467.jpg  \n",
       "4  https://cdn.myanimelist.net/images/anime/1613/102576.jpg  "
      ]
     },
     "execution_count": 36,
     "metadata": {},
     "output_type": "execute_result"
    }
   ],
   "source": [
    "userid = 6039\n",
    "model = vbpr\n",
    "UIDX = model.train_set.uid_map[userid]\n",
    "\n",
    "watched = data[data['user_id'] == userid]['anime_id'].unique()\n",
    "\n",
    "item_id2idx = model.train_set.iid_map\n",
    "item_idx2id = list(model.train_set.item_ids)\n",
    "\n",
    "\n",
    "pd.set_option('display.max_colwidth',1000)\n",
    "TOPK = 5\n",
    "\n",
    "recommendations, scores = model.rank(UIDX)\n",
    "\n",
    "print(f\"\\nTOP {TOPK} RECOMMENDATIONS:\")\n",
    "rec_df = defaultdict(list)\n",
    "n = 0\n",
    "total_rec = 0\n",
    "while total_rec < 5:\n",
    "    i = recommendations[n]\n",
    "    if item_idx2id[i] not in watched and anime[anime['MAL_ID'] == item_idx2id[i]]['airtime'].item() < 3:\n",
    "        cf_contrib = model.beta_item[i] + np.dot(model.gamma_item[i], model.gamma_user[UIDX])\n",
    "        vis_contrib = model.visual_bias[i] + np.dot(model.theta_item[i], vbpr.theta_user[UIDX])\n",
    "        rec_df[\"MAL_ID\"].append(item_idx2id[i])\n",
    "        rec_df[\"Score\"].append(scores[i])\n",
    "        rec_df[\"CF Contribution\"].append(cf_contrib)\n",
    "        rec_df[\"Visual Contribution\"].append(vis_contrib)\n",
    "        rec_df[\"anime_name\"].append(anime[anime['MAL_ID'] == item_idx2id[i]]['English name'].item())\n",
    "        rec_df[\"pic_url\"].append(anime[anime['MAL_ID'] == item_idx2id[i]]['pic_url'].item())\n",
    "        total_rec += 1\n",
    "    n += 1\n",
    "    \n",
    "pd.DataFrame(rec_df)"
   ]
  },
  {
   "cell_type": "markdown",
   "metadata": {},
   "source": [
    "## Text on VBPR"
   ]
  },
  {
   "cell_type": "code",
   "execution_count": 38,
   "metadata": {},
   "outputs": [
    {
     "name": "stdout",
     "output_type": "stream",
     "text": [
      "ratings processing done\n",
      "data spliting done\n"
     ]
    }
   ],
   "source": [
    "with open('anime_text_features.npy', 'rb') as f:\n",
    "    features = np.load(f)\n",
    "    \n",
    "with open('anime_text_ids.npy', 'rb') as f:\n",
    "    ids = np.load(f)\n",
    "\n",
    "ids_set = set(ids) # reduce time complexity\n",
    "data = pd.read_csv('rating_without_0.csv')[['user_id', 'anime_id', 'rating']].drop_duplicates()\n",
    "data['exclude'] = data['anime_id'].apply(lambda x:1 if x in ids_set else 0)\n",
    "ratings = list(data[data['exclude'] == 1][['user_id', 'anime_id', 'rating']].itertuples(index=False))\n",
    "print('ratings processing done')\n",
    "\n",
    "item_text_modality = ImageModality(features=features, ids=ids, normalized=True)\n",
    "\n",
    "ratio_split = RatioSplit(\n",
    "    data=ratings,\n",
    "    test_size=0.2,\n",
    "    rating_threshold=4.0,\n",
    "    exclude_unknowns=True,\n",
    "    item_image=item_text_modality\n",
    ")\n",
    "print('data spliting done')\n",
    "\n",
    "eval_metrics = [cornac.metrics.NCRR(k=[15]),\n",
    "                cornac.metrics.NDCG(k=[15]),\n",
    "                cornac.metrics.Recall(k=15)]"
   ]
  },
  {
   "cell_type": "code",
   "execution_count": 39,
   "metadata": {},
   "outputs": [
    {
     "data": {
      "application/vnd.jupyter.widget-view+json": {
       "model_id": "8426fa5167fe49a0a3f9439e2c5e1021",
       "version_major": 2,
       "version_minor": 0
      },
      "text/plain": [
       "Epoch 1/5:   0%|          | 0/11988 [00:00<?, ?it/s]"
      ]
     },
     "metadata": {},
     "output_type": "display_data"
    },
    {
     "data": {
      "application/vnd.jupyter.widget-view+json": {
       "model_id": "9fa73392ed0f4d759894de2792d0ff5a",
       "version_major": 2,
       "version_minor": 0
      },
      "text/plain": [
       "Epoch 2/5:   0%|          | 0/11988 [00:00<?, ?it/s]"
      ]
     },
     "metadata": {},
     "output_type": "display_data"
    },
    {
     "data": {
      "application/vnd.jupyter.widget-view+json": {
       "model_id": "7f599493241348a9b867852523c775a2",
       "version_major": 2,
       "version_minor": 0
      },
      "text/plain": [
       "Epoch 3/5:   0%|          | 0/11988 [00:00<?, ?it/s]"
      ]
     },
     "metadata": {},
     "output_type": "display_data"
    },
    {
     "data": {
      "application/vnd.jupyter.widget-view+json": {
       "model_id": "103b7964f5d14d2d8513bc2a3d156aa6",
       "version_major": 2,
       "version_minor": 0
      },
      "text/plain": [
       "Epoch 4/5:   0%|          | 0/11988 [00:00<?, ?it/s]"
      ]
     },
     "metadata": {},
     "output_type": "display_data"
    },
    {
     "data": {
      "application/vnd.jupyter.widget-view+json": {
       "model_id": "11f47421b8ed48c78ab62fa995638fc9",
       "version_major": 2,
       "version_minor": 0
      },
      "text/plain": [
       "Epoch 5/5:   0%|          | 0/11988 [00:00<?, ?it/s]"
      ]
     },
     "metadata": {},
     "output_type": "display_data"
    },
    {
     "name": "stdout",
     "output_type": "stream",
     "text": [
      "Optimization finished!\n"
     ]
    },
    {
     "data": {
      "application/vnd.jupyter.widget-view+json": {
       "model_id": "afcf997971cf4c39beeabda4993494dd",
       "version_major": 2,
       "version_minor": 0
      },
      "text/plain": [
       "  0%|          | 0/5 [00:00<?, ?it/s]"
      ]
     },
     "metadata": {},
     "output_type": "display_data"
    },
    {
     "name": "stdout",
     "output_type": "stream",
     "text": [
      "Optimization finished!\n",
      "\n",
      "TEST:\n",
      "...\n",
      "     | NCRR@15 | NDCG@15 | Recall@15 | Train (s) | Test (s)\n",
      "---- + ------- + ------- + --------- + --------- + --------\n",
      "VBPR |  0.1344 |  0.1359 |    0.0803 | 2104.5959 | 293.4130\n",
      "BPR  |  0.1233 |  0.1217 |    0.0683 |    8.3686 | 202.3798\n",
      "\n"
     ]
    }
   ],
   "source": [
    "K = 70\n",
    "vbpr = VBPR(k=K, k2=K, n_epochs=5, batch_size=1024, learning_rate=0.001, lambda_w=0.1, lambda_b=0.1, lambda_e=0.1, use_gpu=True)\n",
    "bpr = BPR(k=(K * 2), max_iter=5, learning_rate=0.001, lambda_reg=0.1, verbose=True)\n",
    "\n",
    "cornac.Experiment(eval_method=ratio_split, models=[vbpr, bpr], metrics=eval_metrics).run()"
   ]
  },
  {
   "cell_type": "code",
   "execution_count": 40,
   "metadata": {},
   "outputs": [
    {
     "data": {
      "application/vnd.jupyter.widget-view+json": {
       "model_id": "f98ae187cd0340a49584766f2ec38251",
       "version_major": 2,
       "version_minor": 0
      },
      "text/plain": [
       "Epoch 1/5:   0%|          | 0/11988 [00:00<?, ?it/s]"
      ]
     },
     "metadata": {},
     "output_type": "display_data"
    },
    {
     "data": {
      "application/vnd.jupyter.widget-view+json": {
       "model_id": "7fd4d69496d844cbbb5704daad2a43a3",
       "version_major": 2,
       "version_minor": 0
      },
      "text/plain": [
       "Epoch 2/5:   0%|          | 0/11988 [00:00<?, ?it/s]"
      ]
     },
     "metadata": {},
     "output_type": "display_data"
    },
    {
     "data": {
      "application/vnd.jupyter.widget-view+json": {
       "model_id": "26e5d680f4d944b58a39acba0c24117e",
       "version_major": 2,
       "version_minor": 0
      },
      "text/plain": [
       "Epoch 3/5:   0%|          | 0/11988 [00:00<?, ?it/s]"
      ]
     },
     "metadata": {},
     "output_type": "display_data"
    },
    {
     "data": {
      "application/vnd.jupyter.widget-view+json": {
       "model_id": "e4b518c23f804421a58b2f57f2997330",
       "version_major": 2,
       "version_minor": 0
      },
      "text/plain": [
       "Epoch 4/5:   0%|          | 0/11988 [00:00<?, ?it/s]"
      ]
     },
     "metadata": {},
     "output_type": "display_data"
    },
    {
     "data": {
      "application/vnd.jupyter.widget-view+json": {
       "model_id": "48569fe2d2254fef9c68ba3aa6193238",
       "version_major": 2,
       "version_minor": 0
      },
      "text/plain": [
       "Epoch 5/5:   0%|          | 0/11988 [00:00<?, ?it/s]"
      ]
     },
     "metadata": {},
     "output_type": "display_data"
    },
    {
     "name": "stdout",
     "output_type": "stream",
     "text": [
      "Optimization finished!\n"
     ]
    },
    {
     "data": {
      "application/vnd.jupyter.widget-view+json": {
       "model_id": "b0b3ad3924a94add99f167f53cf0a9e5",
       "version_major": 2,
       "version_minor": 0
      },
      "text/plain": [
       "  0%|          | 0/5 [00:00<?, ?it/s]"
      ]
     },
     "metadata": {},
     "output_type": "display_data"
    },
    {
     "name": "stdout",
     "output_type": "stream",
     "text": [
      "Optimization finished!\n",
      "\n",
      "TEST:\n",
      "...\n",
      "     | NCRR@15 | NDCG@15 | Recall@15 | Train (s) |  Test (s)\n",
      "---- + ------- + ------- + --------- + --------- + ---------\n",
      "VBPR |  0.1323 |  0.1355 |    0.0832 | 2146.2517 | 1055.3039\n",
      "BPR  |  0.1236 |  0.1221 |    0.0681 |    8.4568 |  542.4332\n",
      "\n"
     ]
    }
   ],
   "source": [
    "# five more epoch\n",
    "cornac.Experiment(eval_method=ratio_split, models=[vbpr, bpr], metrics=eval_metrics).run()"
   ]
  },
  {
   "cell_type": "code",
   "execution_count": 44,
   "metadata": {},
   "outputs": [
    {
     "name": "stdout",
     "output_type": "stream",
     "text": [
      "VBPR model is saved to VBPR/VBPR/2021-07-18_11-06-16-924108.pkl\n"
     ]
    },
    {
     "data": {
      "text/plain": [
       "'VBPR/VBPR/2021-07-18_11-06-16-924108.pkl'"
      ]
     },
     "execution_count": 44,
     "metadata": {},
     "output_type": "execute_result"
    }
   ],
   "source": [
    "vbpr.save('VBPR/')"
   ]
  }
 ],
 "metadata": {
  "kernelspec": {
   "display_name": "RS",
   "language": "python",
   "name": "rs"
  },
  "language_info": {
   "codemirror_mode": {
    "name": "ipython",
    "version": 3
   },
   "file_extension": ".py",
   "mimetype": "text/x-python",
   "name": "python",
   "nbconvert_exporter": "python",
   "pygments_lexer": "ipython3",
   "version": "3.6.9"
  }
 },
 "nbformat": 4,
 "nbformat_minor": 4
}
