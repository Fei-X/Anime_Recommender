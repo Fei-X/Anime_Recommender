{
  "nbformat": 4,
  "nbformat_minor": 0,
  "metadata": {
    "colab": {
      "name": "Data_Scraper_and_Preprocessing.ipynb",
      "provenance": [],
      "collapsed_sections": [
        "DSzrEROoMFBQ"
      ]
    },
    "kernelspec": {
      "name": "python3",
      "display_name": "Python 3"
    },
    "language_info": {
      "name": "python"
    }
  },
  "cells": [
    {
      "cell_type": "code",
      "metadata": {
        "colab": {
          "base_uri": "https://localhost:8080/"
        },
        "id": "YjuQqalrmJ-Q",
        "outputId": "23828c28-8d66-4c47-a547-2efdde1978aa"
      },
      "source": [
        "from google.colab import drive\n",
        "drive.mount('/content/drive/')"
      ],
      "execution_count": null,
      "outputs": [
        {
          "output_type": "stream",
          "text": [
            "Mounted at /content/drive/\n"
          ],
          "name": "stdout"
        }
      ]
    },
    {
      "cell_type": "code",
      "metadata": {
        "colab": {
          "base_uri": "https://localhost:8080/"
        },
        "id": "40M5giq0mT_j",
        "outputId": "a21bd574-5c85-4edf-8a3b-3092f88a084e"
      },
      "source": [
        "import os\n",
        "from bs4 import BeautifulSoup\n",
        "import requests\n",
        "import pandas as pd\n",
        "import random\n",
        "import time\n",
        "\n",
        "pd.set_option('display.max_colwidth',1000)\n",
        "\n",
        "%cd /content/drive/My Drive/Colab Notebooks/RS_Project"
      ],
      "execution_count": null,
      "outputs": [
        {
          "output_type": "stream",
          "text": [
            "/content/drive/My Drive/Colab Notebooks/RS_Project\n"
          ],
          "name": "stdout"
        }
      ]
    },
    {
      "cell_type": "code",
      "metadata": {
        "id": "NW6d0iJinEnt"
      },
      "source": [
        "anime = pd.read_csv('data/anime_info.csv')\n",
        "anime.columns"
      ],
      "execution_count": null,
      "outputs": []
    },
    {
      "cell_type": "markdown",
      "metadata": {
        "id": "DSzrEROoMFBQ"
      },
      "source": [
        "## Crawl for Rating"
      ]
    },
    {
      "cell_type": "code",
      "metadata": {
        "id": "p4LAULjtMBNY"
      },
      "source": [
        "# Change this line for the user_id you wanna start with\n",
        "last_revised_users = 0\n",
        "\n",
        "with open(\"data/users.csv\", \"r\", encoding=\"UTF-8\") as file:\n",
        "    file.readline()\n",
        "    users = [x.strip().split(\",\") for x in file.readlines()]\n",
        "    users = [(int(x[0]), x[1]) for x in users]\n",
        "\n",
        "print(f'total user is {len(users)}, currently scraping user {last_revised_users}')\n",
        "\n",
        "\n",
        "for i, (user_id, username) in enumerate(users):\n",
        "    if user_id <= last_revised_users:\n",
        "        continue\n",
        "\n",
        "    print(f'\\r{i+1}/{len(users)}', end=\"\")\n",
        "    page = 1\n",
        "    all_animes = []\n",
        "\n",
        "    while True:\n",
        "        link = f\"https://api.jikan.moe/v3/user/{username}/animelist/all?page={page}\"\n",
        "        try:\n",
        "            time.sleep(4.2)\n",
        "            data = requests.get(link, timeout=15)\n",
        "        except KeyboardInterrupt:\n",
        "            raise KeyboardInterrupt()\n",
        "        except:  # Other exception wait 2 min and try again\n",
        "            time.sleep(120)\n",
        "            continue\n",
        "\n",
        "        if data.status_code != 200:\n",
        "            break\n",
        "\n",
        "        data = json.loads(data.text)\n",
        "        for anime in data[\"anime\"]:\n",
        "            all_animes.append((anime[\"mal_id\"], anime[\"score\"], anime[\"watching_status\"], anime[\"watched_episodes\"]))\n",
        "\n",
        "        page += 1\n",
        "        if len(data[\"anime\"]) < 300:\n",
        "            break\n",
        "\n",
        "    if len(all_animes) != 0:\n",
        "        with open(f\"data/users/{user_id}.csv\", \"w\") as f1:\n",
        "            f1.write(f\"anime_id,score,watching_status,watched_episodes\\n\")\n",
        "            for anime_id, anime_score, watching_status, watched_episodes in all_animes:\n",
        "                f1.write(\n",
        "                    f\"{anime_id},{anime_score},{watching_status},{watched_episodes}\\n\"\n",
        "                )\n"
      ],
      "execution_count": null,
      "outputs": []
    },
    {
      "cell_type": "code",
      "metadata": {
        "id": "rz1Q_mCKMMj5"
      },
      "source": [
        "# find missing users (anime list inaccessible)\n",
        "all_users = sorted(os.listdir('./data/users/'), key=lambda x:int(x.split(\".\")[0]))\n",
        "missing_lst = []\n",
        "for i in range(20000):\n",
        "    if str(i)+'.csv' not in all_users:\n",
        "        missing_lst.append(i)\n",
        "print(f'missing user: {len(missing_lst)}')"
      ],
      "execution_count": null,
      "outputs": []
    },
    {
      "cell_type": "code",
      "metadata": {
        "id": "4RSVzG70MQBF"
      },
      "source": [
        "if not os.path.exists(f\"data/animelist.csv\"):\n",
        "    with open(f\"data/animelist.csv\", \"w\", encoding=\"UTF-8\") as file:\n",
        "        file.write(\"user_id,anime_id,rating,watching_status,watched_episodes\\n\")\n",
        "        \n",
        "unique_anime = set(pd.read_csv('data/anime_info.csv')['MAL_ID'].unique())\n",
        "all_users = sorted(os.listdir('./data/users/'), key=lambda x:int(x.split(\".\")[0]))\n",
        "\n",
        "with open(f\"data/animelist.csv\", \"a\") as f1:\n",
        "\n",
        "    for i, user_file in enumerate(all_users):\n",
        "        if not user_file.endswith(\".csv\"):\n",
        "            continue\n",
        "\n",
        "        print(f\"\\r{i+1}/{len(all_users)}\", end=\"\")\n",
        "\n",
        "        user_id = user_file.split(\".\")[0]\n",
        "        with open(f\"data/users/{user_file}\", \"r\") as file:\n",
        "            file.readline()\n",
        "            for line in file:\n",
        "                anime_id, score, watching_status, watched_episodes = line.strip().split(\",\")\n",
        "                if int(anime_id) in unique_anime:\n",
        "                    f1.write(f\"{user_id},{anime_id},{score},{watching_status},{watched_episodes}\\n\")"
      ],
      "execution_count": null,
      "outputs": []
    },
    {
      "cell_type": "markdown",
      "metadata": {
        "id": "Qe2v44SlrP-O"
      },
      "source": [
        "## Crawl for pic url"
      ]
    },
    {
      "cell_type": "code",
      "metadata": {
        "id": "dNyChu2fMNls"
      },
      "source": [
        "print(f'remaining {len(unique_anime)} animes require pic_url.')\n",
        "lst = []\n",
        "headers = {\"User Agent\": 'Mozilla/5.0 (Macintosh; Intel Mac OS X 10_15_7) AppleWebKit/537.36 (KHTML, like Gecko) Chrome/91.0.4472.114 Safari/537.36'}\n",
        "for i in unique_anime:\n",
        "    time.sleep(1+random.random())\n",
        "    data = requests.get(f\"https://myanimelist.net/anime/{i}\")\n",
        "    if data.reason != 'OK':\n",
        "        time.sleep(60)\n",
        "        data = requests.get(f\"https://myanimelist.net/anime/{i}\")\n",
        "    anime_info = data.text\n",
        "    soup = BeautifulSoup(anime_info, \"html.parser\")\n",
        "    soup.script.decompose()\n",
        "    link = soup.find_all('img')[1].get(\"data-src\")\n",
        "    lst.append((i,link))\n",
        "    print(f'\\r{len(lst)} record(s) collected',end='')\n",
        "    if len(lst) % 50 == 1:\n",
        "        if len(lst) == 1: # if it is a new list, clear the file content and write the column name\n",
        "            with open(\"anime_pic_trial.csv\", \"w\") as f1:\n",
        "                f1.write('MAL_ID,pic_url,anime_url\\n')\n",
        "\n",
        "        # begin to write record to csv\n",
        "        with open(\"anime_pic_trial.csv\", \"a\") as f1:\n",
        "            for item in lst[-50:]:\n",
        "                f1.write(f\"{item[0]},{item[1]},{'https://myanimelist.net/anime/'+str(item[0])}\\n\")\n",
        "        print(' and write to file!',end='')\n",
        "        \n",
        "# pic = pd.read_csv('anime_pic.csv')\n",
        "# print(f'file record {pic.shape[0]} records, adding {len(lst)} records')\n",
        "# data = pd.DataFrame(lst,columns=['MAL_ID','pic_url'])\n",
        "# data['anime_url'] = 'https://myanimelist.net/anime/' + data['MAL_ID'].astype(str)\n",
        "# pic = pic.append(data).drop_duplicates()\n",
        "# print(f'currently we have {pic.shape[0]} records.')\n",
        "# pic.to_csv('anime_pic.csv',index=False)"
      ],
      "execution_count": null,
      "outputs": []
    },
    {
      "cell_type": "markdown",
      "metadata": {
        "id": "Dbr1WB7Jrsxv"
      },
      "source": [
        "## Rating data combined and rating plotting"
      ]
    },
    {
      "cell_type": "code",
      "metadata": {
        "id": "ukcUzcDI6qdz"
      },
      "source": [
        "rating = pd.DataFrame()\n",
        "for i in range(4):\n",
        "    data = pd.read_csv(f'data/animelist_{i+1}.csv')\n",
        "    rating = rating.append(data)"
      ],
      "execution_count": null,
      "outputs": []
    },
    {
      "cell_type": "code",
      "metadata": {
        "id": "j8_eskmG9gBf"
      },
      "source": [
        "df = rating.drop_duplicates()"
      ],
      "execution_count": null,
      "outputs": []
    },
    {
      "cell_type": "code",
      "metadata": {
        "colab": {
          "base_uri": "https://localhost:8080/"
        },
        "id": "uzucLlU37Okn",
        "outputId": "da331517-94eb-4e2e-cf4b-35524f6dcf6c"
      },
      "source": [
        "n_users = df.user_id.nunique()\n",
        "n_items = df.anime_id.nunique()\n",
        "n_ratings = len(df)\n",
        "rating_matrix_size = n_users * n_items\n",
        "sparsity = 1 - n_ratings / rating_matrix_size\n",
        "\n",
        "print(f\"Number of users: {n_users}\")\n",
        "print(f\"Number of items: {n_items}\")\n",
        "print(f\"Number of available ratings: {n_ratings}\")\n",
        "print(f\"Number of all possible ratings: {rating_matrix_size}\")\n",
        "print(\"-\" * 40)\n",
        "print(f\"SPARSITY: {sparsity * 100.0:.2f}%\")"
      ],
      "execution_count": null,
      "outputs": [
        {
          "output_type": "stream",
          "text": [
            "Number of users: 74706\n",
            "Number of items: 16195\n",
            "Number of available ratings: 27263752\n",
            "Number of all possible ratings: 1209863670\n",
            "----------------------------------------\n",
            "SPARSITY: 97.75%\n"
          ],
          "name": "stdout"
        }
      ]
    },
    {
      "cell_type": "code",
      "metadata": {
        "colab": {
          "base_uri": "https://localhost:8080/"
        },
        "id": "QP4_SZNo7KA2",
        "outputId": "186f9961-1dea-430a-8d11-4d8a44bcfebb"
      },
      "source": [
        "item_rate_count = df.groupby(\"anime_id\")[\"user_id\"].nunique().sort_values(ascending=False)\n",
        "item_rate_count.head(5)"
      ],
      "execution_count": null,
      "outputs": [
        {
          "output_type": "execute_result",
          "data": {
            "text/plain": [
              "anime_id\n",
              "1535     56520\n",
              "16498    56362\n",
              "11757    53282\n",
              "5114     49269\n",
              "9253     48806\n",
              "Name: user_id, dtype: int64"
            ]
          },
          "metadata": {
            "tags": []
          },
          "execution_count": 13
        }
      ]
    },
    {
      "cell_type": "code",
      "metadata": {
        "colab": {
          "base_uri": "https://localhost:8080/",
          "height": 237
        },
        "id": "MyAwvllA91EO",
        "outputId": "4aff27a8-6d60-47e2-c2e8-aebca898d46c"
      },
      "source": [
        "import seaborn as sns\n",
        "import matplotlib.pyplot as plt\n",
        "fig, axes = plt.subplots(nrows=1, ncols=3, figsize=(15, 3))\n",
        "sns.countplot(x='watching_status', data=df, palette=\"ch:.25\", ax=axes[0])\n",
        "sns.countplot(x=\"rating\", data=df, palette=\"ch:.25\", ax=axes[1])\n",
        "sns.boxplot(x=\"rating\", data=df, palette=\"ch:.25\", ax=axes[2]);"
      ],
      "execution_count": null,
      "outputs": [
        {
          "output_type": "display_data",
          "data": {
            "image/png": "[encoded data removed]",
            "text/plain": [
              "<Figure size 1080x216 with 3 Axes>"
            ]
          },
          "metadata": {
            "tags": [],
            "needs_background": "light"
          }
        }
      ]
    },
    {
      "cell_type": "code",
      "metadata": {
        "colab": {
          "base_uri": "https://localhost:8080/"
        },
        "id": "puLz6MWo---z",
        "outputId": "18e3d521-605a-4a94-9cee-a48be393e0cf"
      },
      "source": [
        "n_users = df[df['rating'] != 0].user_id.nunique()\n",
        "n_items = df[df['rating'] != 0].anime_id.nunique()\n",
        "n_ratings = len(df[df['rating'] != 0])\n",
        "rating_matrix_size = n_users * n_items\n",
        "sparsity = 1 - n_ratings / rating_matrix_size\n",
        "\n",
        "print(f\"Number of users: {n_users}\")\n",
        "print(f\"Number of items: {n_items}\")\n",
        "print(f\"Number of available ratings: {n_ratings}\")\n",
        "print(f\"Number of all possible ratings: {rating_matrix_size}\")\n",
        "print(\"-\" * 40)\n",
        "print(f\"SPARSITY: {sparsity * 100.0:.2f}%\")"
      ],
      "execution_count": null,
      "outputs": [
        {
          "output_type": "stream",
          "text": [
            "Number of users: 71971\n",
            "Number of items: 15926\n",
            "Number of available ratings: 15428111\n",
            "Number of all possible ratings: 1146210146\n",
            "----------------------------------------\n",
            "SPARSITY: 98.65%\n"
          ],
          "name": "stdout"
        }
      ]
    },
    {
      "cell_type": "code",
      "metadata": {
        "colab": {
          "base_uri": "https://localhost:8080/",
          "height": 237
        },
        "id": "l5Ut11uiB-VA",
        "outputId": "ae4adef9-6f42-41c5-fe66-89f8cd696831"
      },
      "source": [
        "import seaborn as sns\n",
        "import matplotlib.pyplot as plt\n",
        "fig, axes = plt.subplots(nrows=1, ncols=3, figsize=(15, 3))\n",
        "sns.countplot(x='watching_status', data=df[df['rating'] != 0], palette=\"ch:.25\", ax=axes[0])\n",
        "sns.countplot(x=\"rating\", data=df[df['rating'] != 0], palette=\"ch:.25\", ax=axes[1])\n",
        "sns.boxplot(x=\"rating\", data=df[df['rating'] != 0], palette=\"ch:.25\", ax=axes[2]);"
      ],
      "execution_count": null,
      "outputs": [
        {
          "output_type": "display_data",
          "data": {
            "image/png": "[encoded data removed]",
            "text/plain": [
              "<Figure size 1080x216 with 3 Axes>"
            ]
          },
          "metadata": {
            "tags": [],
            "needs_background": "light"
          }
        }
      ]
    },
    {
      "cell_type": "code",
      "metadata": {
        "id": "iEc5LMs0C-92"
      },
      "source": [
        "df.to_csv('data/rating.csv',index=False)"
      ],
      "execution_count": null,
      "outputs": []
    },
    {
      "cell_type": "code",
      "metadata": {
        "id": "nBw0gjDYEDr5"
      },
      "source": [
        "df[df['rating'] != 0].to_csv('data/rating_without_0.csv',index=False)"
      ],
      "execution_count": null,
      "outputs": []
    },
    {
      "cell_type": "markdown",
      "metadata": {
        "id": "tf1qmwXJr9Bw"
      },
      "source": [
        "## Download Image from url"
      ]
    },
    {
      "cell_type": "code",
      "metadata": {
        "colab": {
          "base_uri": "https://localhost:8080/"
        },
        "id": "ARtz0TT0fuUH",
        "outputId": "9c26c3b8-0bcc-4e29-a17e-7d83ee9ae3ec"
      },
      "source": [
        "%cd /content/drive/My Drive/Colab Notebooks/RS_Project/anime_pic\n",
        "convert_table = anime[['MAL_ID','pic_url']].copy()\n",
        "convert_table.drop(convert_table[convert_table['pic_url'].apply(type) == float].index).to_csv(\"anime_pic/try.csv\",index=False)"
      ],
      "execution_count": null,
      "outputs": [
        {
          "output_type": "stream",
          "text": [
            "/content/drive/My Drive/Colab Notebooks/RS_Project/anime_pic\n"
          ],
          "name": "stdout"
        }
      ]
    },
    {
      "cell_type": "code",
      "metadata": {
        "id": "oQN2sIxGaNIO"
      },
      "source": [
        "!source try.sh"
      ],
      "execution_count": null,
      "outputs": []
    },
    {
      "cell_type": "markdown",
      "metadata": {
        "id": "WoFa919s6b7Y"
      },
      "source": [
        "## User info"
      ]
    },
    {
      "cell_type": "code",
      "metadata": {
        "id": "KMx0N9Wh6fNZ"
      },
      "source": [
        "import os\n",
        "import requests\n",
        "import pandas as pd\n",
        "import random\n",
        "import time\n",
        "import json\n",
        "\n",
        "pd.set_option('display.max_colwidth',1000)"
      ],
      "execution_count": null,
      "outputs": []
    },
    {
      "cell_type": "code",
      "metadata": {
        "id": "-CLaEZF_6jHp"
      },
      "source": [
        "last_users_id = 86983\n",
        "\n",
        "timing_dic = {i:'.'*(i+1) for i in range(6)}\n",
        "with open(\"data/users.csv\", \"r\", encoding=\"UTF-8\") as file:\n",
        "    file.readline()\n",
        "    users = [x.strip().split(\",\") for x in file.readlines()]\n",
        "    users = [(int(x[0]), x[1]) for x in users]\n",
        "\n",
        "print(f'total user is {len(users)}, start with user {last_users_id}')\n",
        "\n",
        "for (user_id, username) in users:\n",
        "    if user_id <= last_users_id:\n",
        "        continue\n",
        "    print(f\"\\rcrawling {user_id} users, username is {username}\",end=timing_dic[user_id%6])\n",
        "    time.sleep(4.2)\n",
        "    data = requests.get(f\"https://api.jikan.moe/v3/user/{username}/profile\") \n",
        "    with open(\"data/user_profile.json\",\"a\") as f:   \n",
        "        json.dump(json.loads(data.text),f)\n",
        "        f.write('\\n')\n",
        "    print(f\"\\rcrawling {user_id} users, username is {username}\",end='')"
      ],
      "execution_count": null,
      "outputs": []
    },
    {
      "cell_type": "code",
      "metadata": {
        "id": "cQdfFWZt6j1p"
      },
      "source": [
        "test = pd.DataFrame()\n",
        "with open('data/user_profile.json') as f:\n",
        "    n = 1\n",
        "    for line in f.readlines():\n",
        "        print(f\"\\r{n}\",end='')\n",
        "        n += 1\n",
        "        line = json.loads(line)\n",
        "        test = test.append(pd.json_normalize(line))       \n",
        "test.shape"
      ],
      "execution_count": null,
      "outputs": []
    },
    {
      "cell_type": "code",
      "metadata": {
        "id": "81oW0x8avrad"
      },
      "source": [
        "users = pd.read_csv('data/user_profile.csv')\n",
        "user_profile = users[['username','last_online','gender','joined','anime_stats.days_watched','anime_stats.episodes_watched','manga_stats.days_read','manga_stats.chapters_read']].copy().drop_duplicates()\n",
        "user_id = pd.read_csv('data/users.csv')\n",
        "user_profile=user_profile.merge(user_id)"
      ],
      "execution_count": null,
      "outputs": []
    },
    {
      "cell_type": "code",
      "metadata": {
        "id": "ieNNGi7cy-xN"
      },
      "source": [
        "user_profile['last_online_day'] = (pd.to_datetime('2021-07-10') - pd.to_datetime(user_profile['last_online'].str.slice(0,10))).dt.days\n",
        "user_profile['joined_day'] = (pd.to_datetime('2021-07-10') - pd.to_datetime(user_profile['joined'].str.slice(0,10))).dt.days\n",
        "user_profile['gender'] = user_profile['gender'].fillna('unknown')\n",
        "user_profile = user_profile.fillna(0)\n",
        "user_profile = user_profile.drop(columns=['username','last_online','joined'])\n",
        "user_profile.loc[71986,'gender'] = 'unknown'\n",
        "user_profile.loc[33472,'gender'] = 'Male'"
      ],
      "execution_count": null,
      "outputs": []
    },
    {
      "cell_type": "code",
      "metadata": {
        "id": "hlB5Rt3S23-y"
      },
      "source": [
        "pd.get_dummies(data=user_profile, columns=['gender'],drop_first=True).to_csv('data/user_features.csv',index=False)"
      ],
      "execution_count": null,
      "outputs": []
    }
  ]
}
